{
 "cells": [
  {
   "cell_type": "code",
   "execution_count": 18,
   "metadata": {},
   "outputs": [
    {
     "data": {
      "text/plain": [
       "array([26636.])"
      ]
     },
     "execution_count": 18,
     "metadata": {},
     "output_type": "execute_result"
    }
   ],
   "source": [
    "import pandas as pd\n",
    "from sklearn.tree import DecisionTreeRegressor\n",
    "\n",
    "houses = pd.read_csv('house.csv');\n",
    "houses = houses.drop(columns=['House'])\n",
    "\n",
    "houses = pd.get_dummies(houses, columns=['Address'], drop_first=True)\n",
    "\n",
    "X = houses.drop(columns=['Price'])\n",
    "y = houses['Price']\n",
    "# X\n",
    "# y\n",
    "houses\n",
    "model = DecisionTreeRegressor()\n",
    "model.fit(X,y)\n",
    "new_data = pd.DataFrame({\n",
    "    'Address_Dharan': [1],  # Set 'Address_Itahari' to 1\n",
    "    **{col: 0 for col in X.columns if col.startswith('Address_')},\n",
    "    'Room': [5], 'Floor': [2], 'Age': [3]\n",
    "})\n",
    "\n",
    "# Reorder columns to match the order during training\n",
    "new_data = new_data[X.columns]\n",
    "prediction = model.predict(new_data)\n",
    "prediction\n"
   ]
  },
  {
   "cell_type": "code",
   "execution_count": 2,
   "metadata": {},
   "outputs": [
    {
     "name": "stdout",
     "output_type": "stream",
     "text": [
      "Mean Squared Error (MSE): 97283640.85303016\n",
      "Accuracy: -0.9038128721840624\n"
     ]
    }
   ],
   "source": [
    "import pandas as pd\n",
    "from sklearn.tree import DecisionTreeRegressor\n",
    "from sklearn.model_selection import train_test_split\n",
    "from sklearn.metrics import mean_squared_error\n",
    "\n",
    "# Load the data\n",
    "houses = pd.read_csv('house.csv')\n",
    "houses = houses.drop(columns=['House'])\n",
    "houses = pd.get_dummies(houses, columns=['Address'], drop_first=True)\n",
    "\n",
    "X = houses.drop(columns=['Price'])\n",
    "y = houses['Price']\n",
    "\n",
    "# Split the data into training and testing sets (80% train, 20% test)\n",
    "X_train, X_test, y_train, y_test = train_test_split(X, y, test_size=0.2, random_state=42)\n",
    "\n",
    "# Create and train the DecisionTreeRegressor model\n",
    "model = DecisionTreeRegressor()\n",
    "model.fit(X_train, y_train)\n",
    "\n",
    "# Create new data for prediction\n",
    "new_data = pd.DataFrame({\n",
    "    'Address_Itahari': [1],\n",
    "    **{col: 0 for col in X.columns if col.startswith('Address_')},\n",
    "    'Room': [2],\n",
    "    'Floor': [2],\n",
    "    'Age': [2]\n",
    "})\n",
    "\n",
    "# Reorder columns to match the order during training\n",
    "new_data = new_data[X.columns]\n",
    "\n",
    "# Make predictions on the new data\n",
    "prediction = model.predict(new_data)\n",
    "\n",
    "# Test the accuracy of the model on the testing set\n",
    "y_pred = model.predict(X_test)\n",
    "mse = mean_squared_error(y_test, y_pred)\n",
    "accuracy = model.score(X_test, y_test)\n",
    "\n",
    "print(\"Mean Squared Error (MSE): {}\".format(mse))\n",
    "print(\"Accuracy: {}\".format(accuracy))\n"
   ]
  },
  {
   "cell_type": "code",
   "execution_count": 1,
   "metadata": {},
   "outputs": [
    {
     "name": "stdout",
     "output_type": "stream",
     "text": [
      "Root Mean Squared Error (RMSE): 10137.851893910127\n"
     ]
    }
   ],
   "source": [
    "import pandas as pd\n",
    "from sklearn.tree import DecisionTreeRegressor\n",
    "from sklearn.metrics import mean_squared_error\n",
    "import numpy as np\n",
    "from sklearn.model_selection import train_test_split\n",
    "\n",
    "# Load the data\n",
    "houses = pd.read_csv('house.csv')\n",
    "\n",
    "# Convert the 'Price' column to numeric (in case it was read as a string)\n",
    "houses['Price'] = pd.to_numeric(houses['Price'])\n",
    "\n",
    "# One-hot encode the 'Address' column\n",
    "houses = pd.get_dummies(houses, columns=['Address'], drop_first=True)\n",
    "\n",
    "# Separate features (X) and target (y)\n",
    "X = houses.drop(columns=['Price'])\n",
    "y = houses['Price']\n",
    "\n",
    "# Split the data into training and testing sets (80% train, 20% test)\n",
    "X_train, X_test, y_train, y_test = train_test_split(X, y, test_size=0.2, random_state=42)\n",
    "\n",
    "# Initialize and train the model\n",
    "model = DecisionTreeRegressor()\n",
    "model.fit(X_train, y_train)\n",
    "\n",
    "# Make predictions on the test set\n",
    "predictions = model.predict(X_test)\n",
    "\n",
    "# Calculate Root Mean Squared Error (RMSE) on the test set\n",
    "mse = mean_squared_error(y_test, predictions)\n",
    "rmse = np.sqrt(mse)\n",
    "print(\"Root Mean Squared Error (RMSE):\", rmse)\n"
   ]
  },
  {
   "cell_type": "code",
   "execution_count": 85,
   "metadata": {},
   "outputs": [
    {
     "name": "stdout",
     "output_type": "stream",
     "text": [
      "Mean Squared Error (MSE): 51264284.922823094\n",
      "R-squared (R2):  -0.003227312049578046\n",
      "Predicted Price for new data:  [17445.43010145]\n"
     ]
    },
    {
     "name": "stderr",
     "output_type": "stream",
     "text": [
      "C:\\Users\\acer\\miniconda3\\envs\\newenvt\\lib\\site-packages\\sklearn\\utils\\validation.py:475: DataConversionWarning: Data with input dtype int64 was converted to float64 by StandardScaler.\n",
      "  warnings.warn(msg, DataConversionWarning)\n"
     ]
    }
   ],
   "source": [
    "import pandas as pd\n",
    "from sklearn.model_selection import train_test_split\n",
    "from sklearn.linear_model import LinearRegression\n",
    "from sklearn.preprocessing import StandardScaler\n",
    "from sklearn.pipeline import make_pipeline\n",
    "from sklearn.metrics import mean_squared_error, r2_score\n",
    "\n",
    "# Load the CSV data into a Pandas DataFrame\n",
    "data = pd.read_csv('house.csv')\n",
    "\n",
    "# Split the data into features (independent variables) and the target variable (house prices)\n",
    "X = data[['Room', 'Floor', 'Age']].values\n",
    "y = data['Price'].values\n",
    "\n",
    "# Split the data into training and testing sets (80% training, 20% testing)\n",
    "X_train, X_test, y_train, y_test = train_test_split(X, y, test_size=0.2, random_state=42)\n",
    "\n",
    "# Create a pipeline with feature scaling and linear regression\n",
    "model = make_pipeline(StandardScaler(), LinearRegression())\n",
    "\n",
    "# Train the model\n",
    "model.fit(X_train, y_train)\n",
    "\n",
    "# Make predictions on the testing data\n",
    "y_pred = model.predict(X_test)\n",
    "\n",
    "# Evaluate the model's performance\n",
    "mse = mean_squared_error(y_test, y_pred)\n",
    "r2 = r2_score(y_test, y_pred)\n",
    "\n",
    "print(\"Mean Squared Error (MSE): {}\".format(mse))\n",
    "print('R-squared (R2): ', r2)\n",
    "\n",
    "# Optionally, you can also use the trained model to predict house prices for new data.\n",
    "# For example, to predict the price of a house with 3 rooms, 2 floors, and 10 years old:\n",
    "new_data = [[3, 2, 10]]\n",
    "predicted_price = model.predict(new_data)\n",
    "print('Predicted Price for new data: ', predicted_price)\n"
   ]
  }
 ],
 "metadata": {
  "kernelspec": {
   "display_name": "Python 3",
   "language": "python",
   "name": "python3"
  },
  "language_info": {
   "codemirror_mode": {
    "name": "ipython",
    "version": 3
   },
   "file_extension": ".py",
   "mimetype": "text/x-python",
   "name": "python",
   "nbconvert_exporter": "python",
   "pygments_lexer": "ipython3",
   "version": "3.5.4"
  }
 },
 "nbformat": 4,
 "nbformat_minor": 2
}
